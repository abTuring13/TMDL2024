{
  "nbformat": 4,
  "nbformat_minor": 0,
  "metadata": {
    "colab": {
      "provenance": []
    },
    "kernelspec": {
      "name": "python3",
      "display_name": "Python 3"
    },
    "language_info": {
      "name": "python"
    }
  },
  "cells": [
    {
      "cell_type": "markdown",
      "source": [
        "#Data preprocessing"
      ],
      "metadata": {
        "id": "ZQ2zg_ouSgBn"
      }
    },
    {
      "cell_type": "markdown",
      "source": [
        "https://www.kaggle.com/datasets/ankurzing/aspect-based-sentiment-analysis-for-financial-news\n",
        "\n",
        "The news headlines data set contains information outside of the scope of our research: news headlines affecting more than one entity (some of the rows), name of entity that headline affect (comapny name in col C), and number of words in a headline (col D), and number of news (col A) . With the following code, we remove this information and write processed data into a new file."
      ],
      "metadata": {
        "id": "viXaIAS7hI4U"
      }
    },
    {
      "cell_type": "code",
      "execution_count": 1,
      "metadata": {
        "colab": {
          "base_uri": "https://localhost:8080/"
        },
        "id": "X87dfqbiFV93",
        "outputId": "b5d4efbc-d1af-4ded-cd04-7ba35833e328"
      },
      "outputs": [
        {
          "output_type": "stream",
          "name": "stdout",
          "text": [
            "Drive already mounted at /content/drive/; to attempt to forcibly remount, call drive.mount(\"/content/drive/\", force_remount=True).\n"
          ]
        }
      ],
      "source": [
        "from google.colab import drive\n",
        "drive.mount('/content/drive/')\n",
        "import csv\n",
        "import json"
      ]
    },
    {
      "cell_type": "markdown",
      "source": [
        "Functions that remove redundant information from the data"
      ],
      "metadata": {
        "id": "auvTaiwFvRcK"
      }
    },
    {
      "cell_type": "code",
      "source": [
        "#Headlines affecting >1 company in column C have >1 colon\n",
        "def has_two_colons(data):\n",
        "    return data.count(':') >= 2\n",
        "\n",
        "#Standardize labels tags\n",
        "def label_to_numeric(label):\n",
        "    if label == 'neutral':\n",
        "        return 1\n",
        "    elif label == 'positive':\n",
        "        return 2\n",
        "    elif label == 'negative':\n",
        "        return 0\n",
        "    else:\n",
        "      return None #in case unknow labels\n",
        "\n",
        "#Extract and return values in dictionaries in col C\n",
        "def extract_values(json_data):\n",
        "    data = json.loads(json_data)\n",
        "    # Extract and convert labels to numeric values\n",
        "    values = [label_to_numeric(value) for value in data.values()]\n",
        "    return values\n",
        "\n",
        "#Combine plus remove rows with headlines affecting >1 company\n",
        "def remove_rows_with_two_colons(input_file, output_file):\n",
        "    #Open input and output fils\n",
        "    with open(input_file, 'r', newline='') as infile, open(output_file, 'w', newline='') as outfile:\n",
        "        reader = csv.DictReader(infile)\n",
        "        fieldnames = reader.fieldnames[1:-1]  # Exclude the first and last column\n",
        "        writer = csv.DictWriter(outfile, fieldnames=fieldnames)\n",
        "\n",
        "        # Write header\n",
        "        writer.writeheader()\n",
        "\n",
        "        # Process each row\n",
        "        for row in reader:\n",
        "            if not has_two_colons(row['Decisions']):\n",
        "              row['Decisions'] = extract_values(row['Decisions'])[0] #Leave only (standardized) labels from 'Decisions' column\n",
        "              del row[reader.fieldnames[0]]  # Delete the first column\n",
        "              del row[reader.fieldnames[-1]]  # Delete the last column\n",
        "              writer.writerow(row)"
      ],
      "metadata": {
        "id": "lNWRZ-e_JI8M"
      },
      "execution_count": 2,
      "outputs": []
    },
    {
      "cell_type": "markdown",
      "source": [
        "Rewrite data into new file"
      ],
      "metadata": {
        "id": "Ut3oHrNypamM"
      }
    },
    {
      "cell_type": "code",
      "source": [
        "\n",
        "input_file = '/content/drive/MyDrive/Turing Machine Learining/Sentiment_Analysis/News_headlines_tagged_uncleaned.csv'\n",
        "output_file = '/content/drive/MyDrive/Turing Machine Learining/Sentiment_Analysis/News_headlines_tagged.csv'\n",
        "\n",
        "remove_rows_with_two_colons(input_file, output_file)\n"
      ],
      "metadata": {
        "id": "85RHaij5Kpai"
      },
      "execution_count": 3,
      "outputs": []
    }
  ]
}