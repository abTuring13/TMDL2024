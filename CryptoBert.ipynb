{
  "cells": [
    {
      "cell_type": "markdown",
      "metadata": {
        "id": "ikUbPPSApxo3"
      },
      "source": [
        "#CryptoBERT"
      ]
    },
    {
      "cell_type": "markdown",
      "metadata": {
        "id": "nwoiBPxcp3eo"
      },
      "source": [
        "CryptoBERT is a pre-trained NLP model to analyse the language and sentiments of cryptocurrency-related social media posts and messages. In this code we forecast the labels n the processed news headlines file"
      ]
    },
    {
      "cell_type": "code",
      "execution_count": 27,
      "metadata": {
        "colab": {
          "base_uri": "https://localhost:8080/"
        },
        "id": "CMoyhwQAA3RP",
        "outputId": "0fd91b4e-c019-425e-c541-a3c226727ed3"
      },
      "outputs": [
        {
          "output_type": "stream",
          "name": "stdout",
          "text": [
            "Drive already mounted at /content/drive/; to attempt to forcibly remount, call drive.mount(\"/content/drive/\", force_remount=True).\n"
          ]
        }
      ],
      "source": [
        "from google.colab import drive\n",
        "drive.mount('/content/drive/')"
      ]
    },
    {
      "cell_type": "code",
      "execution_count": 28,
      "metadata": {
        "id": "9hZ34LgsBYnE"
      },
      "outputs": [],
      "source": [
        "from transformers import TextClassificationPipeline, AutoModelForSequenceClassification, AutoTokenizer #Crypto pre-trained model\n",
        "import pandas as pd #To read files\n",
        "import csv #To write into csv file\n",
        "import os #To write in a specific directory"
      ]
    },
    {
      "cell_type": "markdown",
      "metadata": {
        "id": "7QkPniN_BRjk"
      },
      "source": [
        "The CryptoBERT model has:\n",
        "\n",
        "Input = a (list of) strings, each to be classified as bearish, neutral or bulish.\n",
        "Output = a (list of) dictionary, containing predicted label and a score (irrelevant for the analysis)"
      ]
    },
    {
      "cell_type": "code",
      "execution_count": 29,
      "metadata": {
        "id": "-e9QaJuZBSqM"
      },
      "outputs": [],
      "source": [
        "#https://huggingface.co/ElKulako/cryptobert\n",
        "\n",
        "model_name = \"ElKulako/cryptobert\"\n",
        "tokenizer = AutoTokenizer.from_pretrained(model_name, use_fast=True)\n",
        "model = AutoModelForSequenceClassification.from_pretrained(model_name, num_labels = 3) # possible labels\n",
        "cryptobert = TextClassificationPipeline(model=model, tokenizer=tokenizer, max_length=64, truncation=True, padding = 'max_length') #suggeested settings"
      ]
    },
    {
      "cell_type": "markdown",
      "metadata": {
        "id": "E50ND7nuBoNi"
      },
      "source": [
        "A few examples ot strings to see how the moel behaves"
      ]
    },
    {
      "cell_type": "code",
      "execution_count": 30,
      "metadata": {
        "colab": {
          "base_uri": "https://localhost:8080/"
        },
        "id": "9JHYNKAlBp8q",
        "outputId": "ac0e995b-9317-45a7-c8a7-ed691113c77f"
      },
      "outputs": [
        {
          "output_type": "stream",
          "name": "stdout",
          "text": [
            "[{'label': 'Bullish', 'score': 0.8734585642814636}]\n",
            "[{'label': 'Neutral', 'score': 0.9430785179138184}, {'label': 'Bullish', 'score': 0.5652675032615662}, {'label': 'Neutral', 'score': 0.9430785179138184}]\n"
          ]
        }
      ],
      "source": [
        "post_1 = \" see y'all tomorrow and can't wait to see ada in the morning, i wonder what price it is going to be at. 😎🐂🤠💯😴, bitcoin is looking good go for it and flash by that 45k. \"\n",
        "print(cryptobert(post_1))\n",
        "\n",
        "post_2 = \"SpiceJet to issue 6.4 crore warrants to promoters\"\n",
        "post_3 = \"Genpact appoints Edward J Fitzpatrick as CFO\"\n",
        "post_4 = \"SpiceJet to issue 6.4 crore warrants to promoters\"\n",
        "df_posts = [post_2, post_3, post_4]\n",
        "preds = cryptobert(df_posts)\n",
        "\n",
        "print(preds[0:3])\n",
        "#print(preds[2]['score']) #To access individual elements"
      ]
    },
    {
      "cell_type": "markdown",
      "metadata": {
        "id": "VfmxfVTjVJIQ"
      },
      "source": [
        "Testing the model on dataset of news headlines with sentiment annotations. The data has been preproces using CleanData.ipynb code."
      ]
    },
    {
      "cell_type": "code",
      "execution_count": 31,
      "metadata": {
        "colab": {
          "base_uri": "https://localhost:8080/"
        },
        "id": "CX6ghX39LUZ0",
        "outputId": "3aa55824-47b8-4944-b4b9-b5e575946c89"
      },
      "outputs": [
        {
          "output_type": "stream",
          "name": "stdout",
          "text": [
            "                                               Title  Decisions\n",
            "0  SpiceJet to issue 6.4 crore warrants to promoters          1\n",
            "1                  MMTC Q2 net loss at Rs 10.4 crore          1\n",
            "2  Mid-cap funds can deliver more, stay put: Experts          2\n"
          ]
        }
      ],
      "source": [
        "news_path = '/content/drive/MyDrive/Turing Machine Learining/Sentiment_Analysis/News_headlines_tagged.csv'\n",
        "df = pd.read_csv(news_path)\n",
        "print(df.head(3))\n",
        "\n",
        "headlines_news = list(df[\"Title\"])\n",
        "decisions = list(df[\"Decisions\"])"
      ]
    },
    {
      "cell_type": "markdown",
      "metadata": {
        "id": "xgMPxWGJCf9J"
      },
      "source": [
        "Forecast labels given headlines with Cryptobert model. Below code runs for around 30 minutes. Partial run -> specify desired number of predictions = num_pred"
      ]
    },
    {
      "cell_type": "code",
      "execution_count": 32,
      "metadata": {
        "id": "goNQEAN9CaHv",
        "colab": {
          "base_uri": "https://localhost:8080/"
        },
        "outputId": "3510fa41-5424-4e75-cea0-c148aa6ae052"
      },
      "outputs": [
        {
          "output_type": "stream",
          "name": "stdout",
          "text": [
            "Testing sample is:  5\n"
          ]
        }
      ],
      "source": [
        "num_pred = len(headlines_news) #Change to desired number of predicitons\n",
        "print(\"Testing sample is: \", num_pred)\n",
        "\n",
        "preds = cryptobert(headlines_news[:num_pred])"
      ]
    },
    {
      "cell_type": "markdown",
      "metadata": {
        "id": "e68iv1Uv-ZCO"
      },
      "source": [
        "Output the results"
      ]
    },
    {
      "cell_type": "code",
      "execution_count": 35,
      "metadata": {
        "colab": {
          "base_uri": "https://localhost:8080/"
        },
        "id": "_Qr2jkdjjzDK",
        "outputId": "4dc39c57-6f3b-492f-ee94-8129dedf0186"
      },
      "outputs": [
        {
          "output_type": "stream",
          "name": "stdout",
          "text": [
            "Number of headlines:  5\n",
            "SpiceJet to issue 6.4 crore warrants to promoters -> 1\n",
            "MMTC Q2 net loss at Rs 10.4 crore -> 1\n",
            "Mid-cap funds can deliver more, stay put: Experts -> 2\n",
            "Mid caps now turn into market darlings -> 2\n",
            "Market seeing patience, if not conviction: Prakash Diwan -> 1\n",
            "\n",
            "Predicted labels (original tags): \n",
            " ['Neutral', 'Neutral', 'Neutral', 'Neutral', 'Neutral']\n",
            "Predicted labels (adjusted tags): \n",
            " [1, 1, 1, 1, 1]\n"
          ]
        }
      ],
      "source": [
        "#A few example of testing data\n",
        "print(\"Number of headlines: \", num_pred)\n",
        "for i in range(5):\n",
        "  print(headlines_news[i], end = ' -> ')\n",
        "  print(decisions[i])\n",
        "\n",
        "\n",
        "pred_labels = [d['label'] for d in preds] #Extract list of labels from list of dictioanries of cryptobet output\n",
        "\n",
        "print()\n",
        "print(\"Predicted labels (original tags): \\n\", pred_labels[:5])\n",
        "\n",
        "#Predicted labels are originally Bearish/Neutral/Bullish -> convert to 0/1/2 respecitvely\n",
        "pred_labels_tagged = [2 if label == 'Bullish' else 0 if label == 'Bearish' else 1 if label == 'Neutral' else label for label in pred_labels]\n",
        "print(\"Predicted labels (adjusted tags): \\n\", pred_labels_tagged[:5])\n"
      ]
    },
    {
      "cell_type": "markdown",
      "metadata": {
        "id": "GapmNmvmle1j"
      },
      "source": [
        "Given list of headlines and list of predicted labels by Cryptobert model write it into a new csv file"
      ]
    },
    {
      "cell_type": "code",
      "execution_count": 36,
      "metadata": {
        "id": "4omuSRlxldur"
      },
      "outputs": [],
      "source": [
        "def write_lists_to_csv(list1, list2, directory, filename):\n",
        "    # Combine directory path and filename\n",
        "    filepath = os.path.join(directory, filename)\n",
        "    with open(filepath, 'w', newline='') as csvfile:\n",
        "        writer = csv.writer(csvfile)\n",
        "        writer.writerow(['Headline', 'Predicted label'])  # Write header\n",
        "        for item1, item2 in zip(list1, list2): #Given two list, only write those into the csv\n",
        "            writer.writerow([item1, item2])"
      ]
    },
    {
      "cell_type": "markdown",
      "source": [
        "Write into the new file so data analysis not dependent on runnig time of CrytoBERT"
      ],
      "metadata": {
        "id": "4SunnufFw-Ig"
      }
    },
    {
      "cell_type": "code",
      "execution_count": 26,
      "metadata": {
        "id": "oVaxc8NQlmTy"
      },
      "outputs": [],
      "source": [
        "directory = '/content/drive/MyDrive/Turing Machine Learining/Sentiment_Analysis/'\n",
        "csv_filename = 'News_headlines_tagged_cryptobert_partial.csv' #If partial predictions change the name, not to overwirte full predictions file\n",
        "write_lists_to_csv(headlines_news, pred_labels_tagged, directory, csv_filename)"
      ]
    }
  ],
  "metadata": {
    "colab": {
      "provenance": []
    },
    "kernelspec": {
      "display_name": "Python 3",
      "name": "python3"
    },
    "language_info": {
      "name": "python"
    }
  },
  "nbformat": 4,
  "nbformat_minor": 0
}